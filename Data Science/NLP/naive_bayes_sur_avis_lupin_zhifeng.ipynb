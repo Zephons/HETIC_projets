{
  "nbformat": 4,
  "nbformat_minor": 0,
  "metadata": {
    "colab": {
      "name": "naive_bayes_sur_avis_lupin_zhifeng.ipynb",
      "provenance": [],
      "collapsed_sections": [],
      "toc_visible": true
    },
    "kernelspec": {
      "name": "python3",
      "display_name": "Python 3"
    }
  },
  "cells": [
    {
      "cell_type": "markdown",
      "metadata": {
        "id": "smoPu_fPmjPd"
      },
      "source": [
        "# **Classification naïve bayésienne sur les avis AlloCiné de la  série télévisée Lupin (2021)**"
      ]
    },
    {
      "cell_type": "markdown",
      "metadata": {
        "id": "l0ttkRROnZzT"
      },
      "source": [
        "***\n",
        "**Table des matières :**\n",
        "* [1. Importation des modules](#1)\n",
        "* [2. Importation et aperçu des données](#2)\n",
        "  * [2.1 Vue d'ensemble](#21)\n",
        "  * [2.2 Répartition des notes](#22)\n",
        "  * [2.3 Moyenne de mots par avis](#23)\n",
        "* [3. Préparation des données](#3)\n",
        "* [4. Prédiction naïve basée sur les mots de négation](#4)\n",
        "  * [4.1 Prépossessing des données](#41)\n",
        "  * [4.2 Modélisation arbitraire par les mots de négation](#42)\n",
        "  * [4.3 Matrice de confusion et interprétation du résultat](#43)\n",
        "* [5. Classification naïve bayesienne sur une cible binaire](#5)\n",
        "  * [5.1 Prépossessing des données](#51)\n",
        "  * [5.2 Modélisation par BernoulliNB](#52)\n",
        "  * [5.3 Matrice de confusion et interprétation du résultat](#53)\n",
        "* [6. Classification naïve bayesienne sur les multi-cibles](#6)\n",
        "  * [6.1 Prépossessing des données](#61)\n",
        "  * [6.2 Modélisation par MultinomialNB](#62)\n",
        "  * [6.3 Matrice de confusion et interprétation du résultat](#63)\n",
        "***\n",
        "\n",
        "**Étudiant :**\n",
        "- Zhifeng LIANG"
      ]
    },
    {
      "cell_type": "code",
      "metadata": {
        "colab": {
          "base_uri": "https://localhost:8080/"
        },
        "id": "svC-MfFm2vVJ",
        "outputId": "d19f023b-af03-4477-819e-1e206fde6f4c"
      },
      "source": [
        "from google.colab import drive\n",
        "drive.mount('/content/drive', force_remount=True)"
      ],
      "execution_count": null,
      "outputs": [
        {
          "output_type": "stream",
          "text": [
            "Mounted at /content/drive\n"
          ],
          "name": "stdout"
        }
      ]
    },
    {
      "cell_type": "markdown",
      "metadata": {
        "id": "szAy_e-0nqBw"
      },
      "source": [
        "<a id='1'></a>\n",
        "## **1. Importation des modules**"
      ]
    },
    {
      "cell_type": "code",
      "metadata": {
        "colab": {
          "base_uri": "https://localhost:8080/"
        },
        "id": "WQgpThSE32Gi",
        "outputId": "8937113d-7320-4e76-9b9a-fcd745dbe336"
      },
      "source": [
        "import re\n",
        "import string\n",
        "import numpy as np\n",
        "import pandas as pd\n",
        "import nltk\n",
        "from nltk.corpus import stopwords\n",
        "from nltk import word_tokenize\n",
        "nltk.download(['punkt','stopwords'])\n",
        "import spacy\n",
        "spacy.cli.download('fr_core_news_md')\n",
        "nlp_fr = spacy.load('fr_core_news_md')\n",
        "import matplotlib.pyplot as plt\n",
        "# https://spacy.io/api/annotation"
      ],
      "execution_count": null,
      "outputs": [
        {
          "output_type": "stream",
          "text": [
            "[nltk_data] Downloading package punkt to /root/nltk_data...\n",
            "[nltk_data]   Unzipping tokenizers/punkt.zip.\n",
            "[nltk_data] Downloading package stopwords to /root/nltk_data...\n",
            "[nltk_data]   Unzipping corpora/stopwords.zip.\n",
            "\u001b[38;5;2m✔ Download and installation successful\u001b[0m\n",
            "You can now load the model via spacy.load('fr_core_news_md')\n"
          ],
          "name": "stdout"
        }
      ]
    },
    {
      "cell_type": "code",
      "metadata": {
        "id": "IpT_k0tmZUlQ"
      },
      "source": [
        "from sklearn.model_selection import train_test_split\n",
        "from sklearn.feature_extraction.text import CountVectorizer\n",
        "from sklearn.metrics import confusion_matrix, ConfusionMatrixDisplay, classification_report\n",
        "from sklearn.naive_bayes import BernoulliNB, MultinomialNB, GaussianNB"
      ],
      "execution_count": null,
      "outputs": []
    },
    {
      "cell_type": "markdown",
      "metadata": {
        "id": "NgfmirHbnwKa"
      },
      "source": [
        "<a id='2'></a>\n",
        "## **2. Importation et aperçu des données**"
      ]
    },
    {
      "cell_type": "markdown",
      "metadata": {
        "id": "zT7lTx761yUK"
      },
      "source": [
        "<a id='21'></a>\n",
        "### **2.1 Vue d'ensemble**"
      ]
    },
    {
      "cell_type": "code",
      "metadata": {
        "id": "ocxq0BlM320C"
      },
      "source": [
        "df = pd.read_csv('/content/drive/MyDrive/Cours_HETIC/NLP/avis_lupin/allocine_lupin_avis2.csv')"
      ],
      "execution_count": null,
      "outputs": []
    },
    {
      "cell_type": "code",
      "metadata": {
        "colab": {
          "base_uri": "https://localhost:8080/"
        },
        "id": "vgTG3girqhM8",
        "outputId": "9783b652-de49-45c6-a045-26d7f22892a6"
      },
      "source": [
        "df.shape"
      ],
      "execution_count": null,
      "outputs": [
        {
          "output_type": "execute_result",
          "data": {
            "text/plain": [
              "(951, 3)"
            ]
          },
          "metadata": {
            "tags": []
          },
          "execution_count": 5
        }
      ]
    },
    {
      "cell_type": "code",
      "metadata": {
        "colab": {
          "base_uri": "https://localhost:8080/",
          "height": 204
        },
        "id": "s8NHJekNn0ue",
        "outputId": "38e1c8f6-990c-4101-c82f-84ea5a2f0c87"
      },
      "source": [
        "df.sample(5)"
      ],
      "execution_count": null,
      "outputs": [
        {
          "output_type": "execute_result",
          "data": {
            "text/html": [
              "<div>\n",
              "<style scoped>\n",
              "    .dataframe tbody tr th:only-of-type {\n",
              "        vertical-align: middle;\n",
              "    }\n",
              "\n",
              "    .dataframe tbody tr th {\n",
              "        vertical-align: top;\n",
              "    }\n",
              "\n",
              "    .dataframe thead th {\n",
              "        text-align: right;\n",
              "    }\n",
              "</style>\n",
              "<table border=\"1\" class=\"dataframe\">\n",
              "  <thead>\n",
              "    <tr style=\"text-align: right;\">\n",
              "      <th></th>\n",
              "      <th>Note</th>\n",
              "      <th>Description</th>\n",
              "      <th>key</th>\n",
              "    </tr>\n",
              "  </thead>\n",
              "  <tbody>\n",
              "    <tr>\n",
              "      <th>39</th>\n",
              "      <td>5,0</td>\n",
              "      <td>Omar Sy nous surprend une nouvelle fois dans c...</td>\n",
              "      <td>9</td>\n",
              "    </tr>\n",
              "    <tr>\n",
              "      <th>835</th>\n",
              "      <td>4,0</td>\n",
              "      <td>Sympathique ! Certes le jeu d'acteur n'est pas...</td>\n",
              "      <td>10</td>\n",
              "    </tr>\n",
              "    <tr>\n",
              "      <th>834</th>\n",
              "      <td>4,0</td>\n",
              "      <td>J'ai regardé la série sans a apriori, sans avo...</td>\n",
              "      <td>9</td>\n",
              "    </tr>\n",
              "    <tr>\n",
              "      <th>415</th>\n",
              "      <td>4,5</td>\n",
              "      <td>Franchement les critiques négatives sont dures...</td>\n",
              "      <td>10</td>\n",
              "    </tr>\n",
              "    <tr>\n",
              "      <th>892</th>\n",
              "      <td>5,0</td>\n",
              "      <td>Super serie! Je me suis prise au jeu, et j’ai ...</td>\n",
              "      <td>7</td>\n",
              "    </tr>\n",
              "  </tbody>\n",
              "</table>\n",
              "</div>"
            ],
            "text/plain": [
              "    Note                                        Description  key\n",
              "39   5,0  Omar Sy nous surprend une nouvelle fois dans c...    9\n",
              "835  4,0  Sympathique ! Certes le jeu d'acteur n'est pas...   10\n",
              "834  4,0  J'ai regardé la série sans a apriori, sans avo...    9\n",
              "415  4,5  Franchement les critiques négatives sont dures...   10\n",
              "892  5,0  Super serie! Je me suis prise au jeu, et j’ai ...    7"
            ]
          },
          "metadata": {
            "tags": []
          },
          "execution_count": 6
        }
      ]
    },
    {
      "cell_type": "code",
      "metadata": {
        "colab": {
          "base_uri": "https://localhost:8080/"
        },
        "id": "8uCDNxxbqRVW",
        "outputId": "cf6a4c91-28a8-4868-a998-5f589284331e"
      },
      "source": [
        "df.info()"
      ],
      "execution_count": null,
      "outputs": [
        {
          "output_type": "stream",
          "text": [
            "<class 'pandas.core.frame.DataFrame'>\n",
            "RangeIndex: 951 entries, 0 to 950\n",
            "Data columns (total 3 columns):\n",
            " #   Column       Non-Null Count  Dtype \n",
            "---  ------       --------------  ----- \n",
            " 0   Note         951 non-null    object\n",
            " 1   Description  951 non-null    object\n",
            " 2   key          951 non-null    int64 \n",
            "dtypes: int64(1), object(2)\n",
            "memory usage: 22.4+ KB\n"
          ],
          "name": "stdout"
        }
      ]
    },
    {
      "cell_type": "markdown",
      "metadata": {
        "id": "5Pj1IuiUyCxk"
      },
      "source": [
        "<a id='22'></a>\n",
        "### **2.2 Répartition des notes**"
      ]
    },
    {
      "cell_type": "code",
      "metadata": {
        "colab": {
          "base_uri": "https://localhost:8080/",
          "height": 343
        },
        "id": "YygAuDkvtNUK",
        "outputId": "81c2c267-bdaf-4d69-dcaf-6ca48c4a5e01"
      },
      "source": [
        "plt.figure(figsize=(10,5))\n",
        "df['Note'].value_counts().sort_index().plot(kind='bar', color='mediumseagreen')\n",
        "plt.xticks(rotation=0, fontsize=14)\n",
        "plt.yticks(fontsize=14)\n",
        "plt.xlabel('Note', fontsize=16)\n",
        "plt.ylabel('Nombre d\\'occurrence', fontsize=16)\n",
        "plt.show()"
      ],
      "execution_count": null,
      "outputs": [
        {
          "output_type": "display_data",
          "data": {
            "image/png": "[encoded data removed]",
            "text/plain": [
              "<Figure size 720x360 with 1 Axes>"
            ]
          },
          "metadata": {
            "tags": [],
            "needs_background": "light"
          }
        }
      ]
    },
    {
      "cell_type": "markdown",
      "metadata": {
        "id": "1hm8N8m0yK0F"
      },
      "source": [
        "<a id='23'></a>\n",
        "### **2.3 Moyenne de mots par avis**"
      ]
    },
    {
      "cell_type": "code",
      "metadata": {
        "colab": {
          "base_uri": "https://localhost:8080/"
        },
        "id": "fpgmks6jqtyr",
        "outputId": "4552164c-00e0-42dc-c287-10ac4ed8e454"
      },
      "source": [
        "np.round(np.mean((df['Description'].apply(lambda x: len(x.split(' '))))))"
      ],
      "execution_count": null,
      "outputs": [
        {
          "output_type": "execute_result",
          "data": {
            "text/plain": [
              "64.0"
            ]
          },
          "metadata": {
            "tags": []
          },
          "execution_count": 9
        }
      ]
    },
    {
      "cell_type": "markdown",
      "metadata": {
        "id": "RDvfNS3GqH5g"
      },
      "source": [
        "<a id='3'></a>\n",
        "## **3. Préparation des données**"
      ]
    },
    {
      "cell_type": "markdown",
      "metadata": {
        "id": "ZK8OMkgjoMRd"
      },
      "source": [
        "- Suppression de la colonne **key** qui servait de la pagination de la source.\n",
        "- Suppression des 143 lignes dupliquées\n",
        "- Réassignation des indices\n",
        "- Transformation du type du contenu de la colonne **Note** de `string` en `float`."
      ]
    },
    {
      "cell_type": "code",
      "metadata": {
        "id": "I04Ka2lY4GXI"
      },
      "source": [
        "df = df.drop(columns='key', axis=1)"
      ],
      "execution_count": null,
      "outputs": []
    },
    {
      "cell_type": "code",
      "metadata": {
        "colab": {
          "base_uri": "https://localhost:8080/"
        },
        "id": "lfJh3O4E_lUf",
        "outputId": "c3ce2dba-107b-40c9-9cdf-6b6b2c44ddb2"
      },
      "source": [
        "sum(df['Description'].duplicated())"
      ],
      "execution_count": null,
      "outputs": [
        {
          "output_type": "execute_result",
          "data": {
            "text/plain": [
              "143"
            ]
          },
          "metadata": {
            "tags": []
          },
          "execution_count": 11
        }
      ]
    },
    {
      "cell_type": "code",
      "metadata": {
        "id": "Xjhjfdzr_fXG",
        "colab": {
          "base_uri": "https://localhost:8080/"
        },
        "outputId": "423a80fe-e9cc-4dc7-e4b5-9587e49b3548"
      },
      "source": [
        "df = df.drop_duplicates(subset=['Description'])\n",
        "df = df.reset_index(drop=True)\n",
        "df.shape"
      ],
      "execution_count": null,
      "outputs": [
        {
          "output_type": "execute_result",
          "data": {
            "text/plain": [
              "(808, 2)"
            ]
          },
          "metadata": {
            "tags": []
          },
          "execution_count": 12
        }
      ]
    },
    {
      "cell_type": "code",
      "metadata": {
        "id": "fAwqaOMTsaCw"
      },
      "source": [
        "df['Note'] = df['Note'].apply(lambda x: float(x.replace(',', '.')))"
      ],
      "execution_count": null,
      "outputs": []
    },
    {
      "cell_type": "markdown",
      "metadata": {
        "id": "seAJmngX08zB"
      },
      "source": [
        "<a id='4'></a>\n",
        "## **4. Prédiction naïve basée sur les mots de négation**"
      ]
    },
    {
      "cell_type": "markdown",
      "metadata": {
        "id": "bTt1XDI7WKDD"
      },
      "source": [
        "<a id='41'></a>\n",
        "### **4.1 Prépossessing des données**"
      ]
    },
    {
      "cell_type": "markdown",
      "metadata": {
        "id": "FM_egonH2Hqh"
      },
      "source": [
        "- Suppression des stopwords, sauf les mots de négation\n",
        "- Tokenisation des phrases\n",
        "- Lemmatisation des tokens"
      ]
    },
    {
      "cell_type": "code",
      "metadata": {
        "id": "lNqhb2Kpllsx"
      },
      "source": [
        "stop_words_fr = set(stopwords.words('french') + ['euro', 'euros', 'eur', 'km'] + list(string.ascii_lowercase))"
      ],
      "execution_count": null,
      "outputs": []
    },
    {
      "cell_type": "code",
      "metadata": {
        "id": "zbQZiB4_73wB"
      },
      "source": [
        "stop_words_fr_without_negation = stop_words_fr - set(('ne', 'pas', 'mais'))"
      ],
      "execution_count": null,
      "outputs": []
    },
    {
      "cell_type": "code",
      "metadata": {
        "id": "fc6zwgW97Up9"
      },
      "source": [
        "df['Tokens_with_negation'] = df['Description'] \\\n",
        ".apply(lambda x: re.sub(r'[^\\w\\s]',' ', x)) \\\n",
        ".apply(lambda x: [word.lower() for word in word_tokenize(x) if word.lower() not in stop_words_fr_without_negation]) \\\n",
        ".apply(lambda x: [word.lemma_ for word in nlp_fr(' '.join(x))])"
      ],
      "execution_count": null,
      "outputs": []
    },
    {
      "cell_type": "markdown",
      "metadata": {
        "id": "fnWpD2yC3cA7"
      },
      "source": [
        "- Transformation de classification multiple en classification binaire en regroupant les 10 notes en 2 groupes :\n",
        "  - Note $\\geq$ 3 $=>$ avis positifs; Note $<$ 3 $=>$ avis négatifs."
      ]
    },
    {
      "cell_type": "code",
      "metadata": {
        "id": "LztlXxFNZ7WX"
      },
      "source": [
        "df['Note_binary'] = df['Note'].apply(lambda x: 1 if x >= 3 else 0)"
      ],
      "execution_count": null,
      "outputs": []
    },
    {
      "cell_type": "code",
      "metadata": {
        "colab": {
          "base_uri": "https://localhost:8080/",
          "height": 270
        },
        "id": "4uSs3j4qIaVZ",
        "outputId": "2331b385-41ac-4dbd-b4e2-16c5171770e7"
      },
      "source": [
        "plt.figure(figsize=(4,4))\n",
        "df['Note_binary'].value_counts().sort_index().plot(kind='bar', color='crimson')\n",
        "plt.xticks(range(2), ['avis négatif(0)', 'avis positif(1)'], rotation=0, fontsize=14)\n",
        "plt.yticks(fontsize=14)\n",
        "plt.ylabel('Nombre d\\'occurrence', fontsize=16)\n",
        "plt.show()"
      ],
      "execution_count": null,
      "outputs": [
        {
          "output_type": "display_data",
          "data": {
            "image/png": "[encoded data removed]",
            "text/plain": [
              "<Figure size 288x288 with 1 Axes>"
            ]
          },
          "metadata": {
            "tags": [],
            "needs_background": "light"
          }
        }
      ]
    },
    {
      "cell_type": "markdown",
      "metadata": {
        "id": "nkcHjtm8I6AN"
      },
      "source": [
        "<a id='42'></a>\n",
        "### **4.2 Modélisation arbitraire par les mots de négation**"
      ]
    },
    {
      "cell_type": "code",
      "metadata": {
        "id": "mzmUiquHaLmS"
      },
      "source": [
        "df['Naive_prediction'] = df['Description'].apply(lambda x: 0 if any(e in x for e in ['ne', 'pas', 'mais', 'ni', 'jamais', 'guère', 'rien']) else 1)"
      ],
      "execution_count": null,
      "outputs": []
    },
    {
      "cell_type": "markdown",
      "metadata": {
        "id": "K65iCJKQWt3t"
      },
      "source": [
        "<a id='43'></a>\n",
        "### **4.3 Matrice de confusion et interprétation du résultat**"
      ]
    },
    {
      "cell_type": "code",
      "metadata": {
        "colab": {
          "base_uri": "https://localhost:8080/",
          "height": 288
        },
        "id": "NpSJPBmyCB2E",
        "outputId": "2852e1c4-b76c-4b9c-e68c-e0ba6c931681"
      },
      "source": [
        "cm_naive = confusion_matrix(df['Note_binary'], df['Naive_prediction'])\n",
        "disp_naive = ConfusionMatrixDisplay(confusion_matrix=cm_naive, display_labels=[str(i) for i in range(2)])\n",
        "disp_naive.plot(cmap='Blues', values_format='d')\n",
        "plt.xticks(rotation=0, fontsize=14)\n",
        "plt.yticks(rotation=0, fontsize=14)\n",
        "plt.xlabel('Prédiction naïve', fontsize=16)\n",
        "plt.ylabel('Valeur vraie', fontsize=16)\n",
        "plt.show()"
      ],
      "execution_count": null,
      "outputs": [
        {
          "output_type": "display_data",
          "data": {
            "image/png": "[encoded data removed]",
            "text/plain": [
              "<Figure size 432x288 with 2 Axes>"
            ]
          },
          "metadata": {
            "tags": [],
            "needs_background": "light"
          }
        }
      ]
    },
    {
      "cell_type": "code",
      "metadata": {
        "colab": {
          "base_uri": "https://localhost:8080/"
        },
        "id": "Cx2G3MG3LqpH",
        "outputId": "34d2c24e-1b42-450f-f641-c49cc40828f1"
      },
      "source": [
        "print(classification_report(df['Note_binary'], df['Naive_prediction']))"
      ],
      "execution_count": null,
      "outputs": [
        {
          "output_type": "stream",
          "text": [
            "              precision    recall  f1-score   support\n",
            "\n",
            "           0       0.35      0.96      0.51       278\n",
            "           1       0.76      0.06      0.11       530\n",
            "\n",
            "    accuracy                           0.37       808\n",
            "   macro avg       0.56      0.51      0.31       808\n",
            "weighted avg       0.62      0.37      0.25       808\n",
            "\n"
          ],
          "name": "stdout"
        }
      ]
    },
    {
      "cell_type": "markdown",
      "metadata": {
        "id": "sNI8grSkQvme"
      },
      "source": [
        "- Accuracy : globalement, 37% des cas sont correctement prédits.\n",
        "- Précision : Parmi les avis qui sont prédits positifs, 76% sont corrects.  \n",
        "- Rappel : Parmi les avis qui sont réllement positifs, 6% sont correctement prédicts.\n",
        "- F-measure : 11%, la moyenne harmonique de la Précision et du Rappel."
      ]
    },
    {
      "cell_type": "markdown",
      "metadata": {
        "id": "cVpkVGmYU60F"
      },
      "source": [
        "<a id='5'></a>\n",
        "## **5. Classification naïve bayesienne sur une cible binaire**"
      ]
    },
    {
      "cell_type": "markdown",
      "metadata": {
        "id": "Y_54gHC_XKdY"
      },
      "source": [
        "<a id='51'></a>\n",
        "### **5.1 Prépossessing des données**"
      ]
    },
    {
      "cell_type": "markdown",
      "metadata": {
        "id": "2f95cKzwXmBE"
      },
      "source": [
        "- Suppression des stopwords, incluant les mots de négation\n",
        "- Tokenisation des phrases\n",
        "- Lemmatisation des tokens\n",
        "- Séparation des données en train et test\n",
        "- Vectorisation des données par `CountVectorizer`"
      ]
    },
    {
      "cell_type": "code",
      "metadata": {
        "id": "EzkjB4NSXpxG"
      },
      "source": [
        "df['Tokens'] = df['Description'] \\\n",
        ".apply(lambda x: re.sub(r'[^\\w\\s]',' ', x)) \\\n",
        ".apply(lambda x: [word.lower() for word in word_tokenize(x) if word.lower() not in stop_words_fr]) \\\n",
        ".apply(lambda x: [word.lemma_ for word in nlp_fr(' '.join(x))])"
      ],
      "execution_count": null,
      "outputs": []
    },
    {
      "cell_type": "code",
      "metadata": {
        "id": "8xk5C2WnrOn7"
      },
      "source": [
        "X_train, X_test, y_bi_train, y_bi_test = train_test_split(df['Tokens'].apply(lambda x: ' '.join(x)), df['Note_binary'], test_size=0.2, random_state=33)"
      ],
      "execution_count": null,
      "outputs": []
    },
    {
      "cell_type": "code",
      "metadata": {
        "id": "QcfSKZZDa_lm"
      },
      "source": [
        "count_vectorizer = CountVectorizer()\n",
        "X_train_cv = count_vectorizer.fit_transform(X_train)\n",
        "X_test_cv = count_vectorizer.transform(X_test)"
      ],
      "execution_count": null,
      "outputs": []
    },
    {
      "cell_type": "markdown",
      "metadata": {
        "id": "t1GUkMlSZFKj"
      },
      "source": [
        "<a id='52'></a>\n",
        "### **5.2 Modélisation par `BernoulliNB`**"
      ]
    },
    {
      "cell_type": "code",
      "metadata": {
        "id": "EP6lZFu8A16m"
      },
      "source": [
        "clf_bernoulliNb = BernoulliNB()\n",
        "clf_bernoulliNb.fit(X_train_cv, y_bi_train)\n",
        "y_bi_pred = clf_bernoulliNb.predict(X_test_cv)"
      ],
      "execution_count": null,
      "outputs": []
    },
    {
      "cell_type": "markdown",
      "metadata": {
        "id": "-B_8IsjppIA_"
      },
      "source": [
        "<a id='53'></a>\n",
        "### **5.3 Matrice de confusion et interprétation du résultat**"
      ]
    },
    {
      "cell_type": "code",
      "metadata": {
        "colab": {
          "base_uri": "https://localhost:8080/",
          "height": 289
        },
        "id": "wvyw7v0upCB7",
        "outputId": "a07b3065-f32f-4d86-eadb-65f98e070bcd"
      },
      "source": [
        "cm_bernoulliNb = confusion_matrix(y_bi_test, y_bi_pred)\n",
        "disp_bernoulliNb = ConfusionMatrixDisplay(confusion_matrix=cm_bernoulliNb, display_labels=[str(i) for i in range(2)])\n",
        "disp_bernoulliNb.plot(cmap='Blues', values_format='d')\n",
        "plt.xticks(rotation=0, fontsize=14)\n",
        "plt.yticks(rotation=0, fontsize=14)\n",
        "plt.xlabel('Prédiction naïve bayésienne Bernoulli', fontsize=16)\n",
        "plt.ylabel('Valeur vraie', fontsize=16)\n",
        "plt.show()"
      ],
      "execution_count": null,
      "outputs": [
        {
          "output_type": "display_data",
          "data": {
            "image/png": "[encoded data removed]",
            "text/plain": [
              "<Figure size 432x288 with 2 Axes>"
            ]
          },
          "metadata": {
            "tags": [],
            "needs_background": "light"
          }
        }
      ]
    },
    {
      "cell_type": "code",
      "metadata": {
        "colab": {
          "base_uri": "https://localhost:8080/"
        },
        "id": "HMdzHiOVqI0S",
        "outputId": "6ad0e71e-2c14-40fc-c691-43f7c1931802"
      },
      "source": [
        "print(classification_report(y_bi_test, y_bi_pred))"
      ],
      "execution_count": null,
      "outputs": [
        {
          "output_type": "stream",
          "text": [
            "              precision    recall  f1-score   support\n",
            "\n",
            "           0       1.00      0.43      0.60        56\n",
            "           1       0.77      1.00      0.87       106\n",
            "\n",
            "    accuracy                           0.80       162\n",
            "   macro avg       0.88      0.71      0.73       162\n",
            "weighted avg       0.85      0.80      0.78       162\n",
            "\n"
          ],
          "name": "stdout"
        }
      ]
    },
    {
      "cell_type": "markdown",
      "metadata": {
        "id": "mAfuJNakqWQN"
      },
      "source": [
        "- Accuracy : globalement, 80% des cas sont correctement prédits.\n",
        "- Précision : Parmi les avis qui sont prédits positifs, 77% sont corrects. \n",
        "- Rappel : Parmi les avis qui sont réllement positifs, 100% sont correctement prédits. \n",
        "- F-measure : 87%, la moyenne harmonique de la Précision et du Rappel."
      ]
    },
    {
      "cell_type": "markdown",
      "metadata": {
        "id": "5uTZETY7sGm5"
      },
      "source": [
        "<a id='6'></a>\n",
        "## **6. Classification naïve bayesienne sur les multi-cibles**"
      ]
    },
    {
      "cell_type": "markdown",
      "metadata": {
        "id": "1RTtXFOHtHzx"
      },
      "source": [
        "<a id='61'></a>\n",
        "### **6.1 Prépossessing des données**"
      ]
    },
    {
      "cell_type": "markdown",
      "metadata": {
        "id": "qiKnqOCItRfg"
      },
      "source": [
        "- Séparation des données en train et test\n",
        "- Vectorisation des données par `CountVectorizer`"
      ]
    },
    {
      "cell_type": "code",
      "metadata": {
        "id": "M_M_ZS4RuGp_"
      },
      "source": [
        "X_train, X_test, y_multi_train, y_multi_test = train_test_split(df['Tokens'].apply(lambda x: ' '.join(x)), df['Note'].apply(lambda x: int(x*2)), test_size=0.2, random_state=33)"
      ],
      "execution_count": null,
      "outputs": []
    },
    {
      "cell_type": "markdown",
      "metadata": {
        "id": "yYrRcRLTunkz"
      },
      "source": [
        "<a id='62'></a>\n",
        "### **6.2 Modélisation par `MultinomialNB`**"
      ]
    },
    {
      "cell_type": "code",
      "metadata": {
        "id": "Crc_HJjnsu64"
      },
      "source": [
        "clf_multiNb = MultinomialNB()\n",
        "clf_bernoulliNb.fit(X_train_cv, y_multi_train)\n",
        "y_multi_pred = clf_bernoulliNb.predict(X_test_cv)"
      ],
      "execution_count": null,
      "outputs": []
    },
    {
      "cell_type": "markdown",
      "metadata": {
        "id": "2s3dSsAuu2B-"
      },
      "source": [
        "<a id='63'></a>\n",
        "### **6.3 Matrice de confusion et interprétation du résultat**"
      ]
    },
    {
      "cell_type": "code",
      "metadata": {
        "colab": {
          "base_uri": "https://localhost:8080/",
          "height": 288
        },
        "id": "tDdbc27qui-r",
        "outputId": "297862d2-78a1-4dcf-b58b-feb3182f7cf1"
      },
      "source": [
        "cm_multiNb = confusion_matrix(y_multi_test, y_multi_pred)\n",
        "disp_multiNb = ConfusionMatrixDisplay(confusion_matrix=cm_multiNb, display_labels=[str(float(i/2)).replace('.', ',') for i in range(1, 11)])\n",
        "disp_multiNb.plot(cmap='Blues', values_format='d')\n",
        "plt.xticks(rotation=0, fontsize=12)\n",
        "plt.yticks(rotation=0, fontsize=12)\n",
        "plt.xlabel('Prédiction naïve bayésienne multinomiale', fontsize=16)\n",
        "plt.ylabel('Valeur vraie', fontsize=16)\n",
        "plt.show()"
      ],
      "execution_count": null,
      "outputs": [
        {
          "output_type": "display_data",
          "data": {
            "image/png": "[encoded data removed]",
            "text/plain": [
              "<Figure size 432x288 with 2 Axes>"
            ]
          },
          "metadata": {
            "tags": [],
            "needs_background": "light"
          }
        }
      ]
    },
    {
      "cell_type": "code",
      "metadata": {
        "colab": {
          "base_uri": "https://localhost:8080/"
        },
        "id": "3bIFO16KwYgK",
        "outputId": "8d6ffb36-76e1-456c-b55e-58014df4899c"
      },
      "source": [
        "print(classification_report(y_multi_test, y_multi_pred))"
      ],
      "execution_count": null,
      "outputs": [
        {
          "output_type": "stream",
          "text": [
            "              precision    recall  f1-score   support\n",
            "\n",
            "           1       0.20      0.06      0.10        16\n",
            "           2       1.00      0.07      0.13        14\n",
            "           3       1.00      0.11      0.20         9\n",
            "           4       0.00      0.00      0.00        12\n",
            "           5       0.00      0.00      0.00         5\n",
            "           6       0.00      0.00      0.00         2\n",
            "           7       0.00      0.00      0.00         4\n",
            "           8       0.17      0.03      0.05        35\n",
            "           9       0.00      0.00      0.00        23\n",
            "          10       0.28      1.00      0.44        42\n",
            "\n",
            "    accuracy                           0.28       162\n",
            "   macro avg       0.26      0.13      0.09       162\n",
            "weighted avg       0.27      0.28      0.16       162\n",
            "\n"
          ],
          "name": "stdout"
        },
        {
          "output_type": "stream",
          "text": [
            "/usr/local/lib/python3.7/dist-packages/sklearn/metrics/_classification.py:1272: UndefinedMetricWarning: Precision and F-score are ill-defined and being set to 0.0 in labels with no predicted samples. Use `zero_division` parameter to control this behavior.\n",
            "  _warn_prf(average, modifier, msg_start, len(result))\n"
          ],
          "name": "stderr"
        }
      ]
    },
    {
      "cell_type": "markdown",
      "metadata": {
        "id": "BfXs1PdHzYPL"
      },
      "source": [
        "- Accuracy : globalement, 28% des cas sont correctement prédits.\n",
        "- Précision : Parmi les avis dont la note est predict qu'est 1,0 ou 1,5, 100% sont corrects; environ 20-30% pour ceux dont la note est predict qu'est 0,5 ou 4,0 ou 5,0. \n",
        "- Rappel : Parmi les avis dont la note est réllement 5,0, 100% sont correctement prédits; environ 11% pour ceux dont la note est 1,5.\n",
        "- F-measure : la moyenne harmonique de la Précision et du Rappel, 44% pour les avis dont la note est 5,0, 10-20% pour ceux dont la note est 0,5 ou 1,0 ou 1,5."
      ]
    },
    {
      "cell_type": "code",
      "metadata": {
        "id": "9NLpFUpWXCHG"
      },
      "source": [
        "clf_gaussianNb = GaussianNB()\n",
        "clf_gaussianNb.fit(X_train_cv.toarray(), y_multi_train)\n",
        "y_gauss_pred = clf_gaussianNb.predict(X_test_cv.toarray())"
      ],
      "execution_count": null,
      "outputs": []
    },
    {
      "cell_type": "code",
      "metadata": {
        "colab": {
          "base_uri": "https://localhost:8080/"
        },
        "id": "rdqDVGeyXtXr",
        "outputId": "175e7514-ac54-4d66-c258-8f3b77efecbf"
      },
      "source": [
        "print(classification_report(y_multi_test, y_gauss_pred))"
      ],
      "execution_count": null,
      "outputs": [
        {
          "output_type": "stream",
          "text": [
            "              precision    recall  f1-score   support\n",
            "\n",
            "           1       0.35      0.50      0.41        16\n",
            "           2       0.20      0.14      0.17        14\n",
            "           3       0.18      0.22      0.20         9\n",
            "           4       0.50      0.17      0.25        12\n",
            "           5       0.00      0.00      0.00         5\n",
            "           6       0.00      0.00      0.00         2\n",
            "           7       0.00      0.00      0.00         4\n",
            "           8       0.36      0.34      0.35        35\n",
            "           9       0.50      0.43      0.47        23\n",
            "          10       0.57      0.55      0.56        42\n",
            "\n",
            "    accuracy                           0.36       162\n",
            "   macro avg       0.27      0.24      0.24       162\n",
            "weighted avg       0.40      0.36      0.37       162\n",
            "\n"
          ],
          "name": "stdout"
        }
      ]
    },
    {
      "cell_type": "code",
      "metadata": {
        "id": "WdZIOTfWoAtp"
      },
      "source": [
        "df['Note_binary_int'] = df['Note'].apply(lambda x: 3 if int(x) <= 3 else int(x))"
      ],
      "execution_count": null,
      "outputs": []
    },
    {
      "cell_type": "code",
      "metadata": {
        "id": "z9OKXpLLoBVq"
      },
      "source": [
        "X_train, X_test, y_multi_int_train, y_multi_int_test = train_test_split(df['Tokens'].apply(lambda x: ' '.join(x)), df['Note_binary_int'], test_size=0.2, random_state=33)"
      ],
      "execution_count": null,
      "outputs": []
    },
    {
      "cell_type": "code",
      "metadata": {
        "id": "E39Gzjt3oBSl"
      },
      "source": [
        "clf_multiNb = MultinomialNB()\n",
        "clf_bernoulliNb.fit(X_train_cv, y_multi_int_train)\n",
        "y_multi_int_pred = clf_bernoulliNb.predict(X_test_cv)"
      ],
      "execution_count": null,
      "outputs": []
    },
    {
      "cell_type": "code",
      "metadata": {
        "colab": {
          "base_uri": "https://localhost:8080/",
          "height": 288
        },
        "id": "E7Nd8onRpfeo",
        "outputId": "65be1120-535a-481a-e1bc-842ae848b6b3"
      },
      "source": [
        "cm_multiNb = confusion_matrix(y_multi_int_test, y_multi_int_pred)\n",
        "disp_multiNb = ConfusionMatrixDisplay(confusion_matrix=cm_multiNb, display_labels=[str(float(i/2)).replace('.', ',') for i in range(1, 11)])\n",
        "disp_multiNb.plot(cmap='Blues', values_format='d')\n",
        "plt.xticks(rotation=0, fontsize=12)\n",
        "plt.yticks(rotation=0, fontsize=12)\n",
        "plt.xlabel('Prédiction naïve bayésienne multinomiale', fontsize=16)\n",
        "plt.ylabel('Valeur vraie', fontsize=16)\n",
        "plt.show()"
      ],
      "execution_count": null,
      "outputs": [
        {
          "output_type": "display_data",
          "data": {
            "image/png": "[encoded data removed]",
            "text/plain": [
              "<Figure size 432x288 with 2 Axes>"
            ]
          },
          "metadata": {
            "tags": [],
            "needs_background": "light"
          }
        }
      ]
    },
    {
      "cell_type": "code",
      "metadata": {
        "colab": {
          "base_uri": "https://localhost:8080/"
        },
        "id": "R6gxvlKupTjo",
        "outputId": "92f817ea-9fd9-4eab-af42-334d0e3797ef"
      },
      "source": [
        "print(classification_report(y_multi_int_test, y_multi_int_pred))"
      ],
      "execution_count": null,
      "outputs": [
        {
          "output_type": "stream",
          "text": [
            "              precision    recall  f1-score   support\n",
            "\n",
            "           3       0.93      0.63      0.75        62\n",
            "           4       0.60      0.21      0.31        58\n",
            "           5       0.36      0.86      0.51        42\n",
            "\n",
            "    accuracy                           0.54       162\n",
            "   macro avg       0.63      0.56      0.52       162\n",
            "weighted avg       0.66      0.54      0.53       162\n",
            "\n"
          ],
          "name": "stdout"
        }
      ]
    }
  ]
}